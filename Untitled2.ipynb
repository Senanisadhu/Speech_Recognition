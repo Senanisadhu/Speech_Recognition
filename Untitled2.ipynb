{
  "nbformat": 4,
  "nbformat_minor": 0,
  "metadata": {
    "colab": {
      "name": "Untitled2.ipynb",
      "provenance": [],
      "collapsed_sections": [],
      "authorship_tag": "ABX9TyPjCV2qphr6F/aw3K8NQdP1",
      "include_colab_link": true
    },
    "kernelspec": {
      "name": "python3",
      "display_name": "Python 3"
    }
  },
  "cells": [
    {
      "cell_type": "markdown",
      "metadata": {
        "id": "view-in-github",
        "colab_type": "text"
      },
      "source": [
        "<a href=\"https://colab.research.google.com/github/Senanisadhu/Speech_Recognition/blob/main/Untitled2.ipynb\" target=\"_parent\"><img src=\"https://colab.research.google.com/assets/colab-badge.svg\" alt=\"Open In Colab\"/></a>"
      ]
    },
    {
      "cell_type": "markdown",
      "metadata": {
        "id": "-LNeCMZOSGY3"
      },
      "source": [
        "**Package Requirements**"
      ]
    },
    {
      "cell_type": "code",
      "metadata": {
        "colab": {
          "base_uri": "https://localhost:8080/"
        },
        "id": "VrilBjNZKHJh",
        "outputId": "b244cd0e-2a54-4334-e7dc-4ad0e6fce434"
      },
      "source": [
        "%pip install kapre==0.1.7\r\n",
        "%pip install soundfile\r\n",
        "%pip install ffmpeg-python\r\n"
      ],
      "execution_count": null,
      "outputs": [
        {
          "output_type": "stream",
          "text": [
            "Requirement already satisfied: kapre==0.1.7 in /usr/local/lib/python3.6/dist-packages (0.1.7)\n",
            "Requirement already satisfied: numpy>=1.8.0 in /usr/local/lib/python3.6/dist-packages (from kapre==0.1.7) (1.19.5)\n",
            "Requirement already satisfied: tensorflow>=1.15 in /usr/local/lib/python3.6/dist-packages (from kapre==0.1.7) (2.4.1)\n",
            "Requirement already satisfied: librosa>=0.5 in /usr/local/lib/python3.6/dist-packages (from kapre==0.1.7) (0.8.0)\n",
            "Requirement already satisfied: gast==0.3.3 in /usr/local/lib/python3.6/dist-packages (from tensorflow>=1.15->kapre==0.1.7) (0.3.3)\n",
            "Requirement already satisfied: astunparse~=1.6.3 in /usr/local/lib/python3.6/dist-packages (from tensorflow>=1.15->kapre==0.1.7) (1.6.3)\n",
            "Requirement already satisfied: google-pasta~=0.2 in /usr/local/lib/python3.6/dist-packages (from tensorflow>=1.15->kapre==0.1.7) (0.2.0)\n",
            "Requirement already satisfied: h5py~=2.10.0 in /usr/local/lib/python3.6/dist-packages (from tensorflow>=1.15->kapre==0.1.7) (2.10.0)\n",
            "Requirement already satisfied: six~=1.15.0 in /usr/local/lib/python3.6/dist-packages (from tensorflow>=1.15->kapre==0.1.7) (1.15.0)\n",
            "Requirement already satisfied: wheel~=0.35 in /usr/local/lib/python3.6/dist-packages (from tensorflow>=1.15->kapre==0.1.7) (0.36.2)\n",
            "Requirement already satisfied: absl-py~=0.10 in /usr/local/lib/python3.6/dist-packages (from tensorflow>=1.15->kapre==0.1.7) (0.10.0)\n",
            "Requirement already satisfied: tensorflow-estimator<2.5.0,>=2.4.0 in /usr/local/lib/python3.6/dist-packages (from tensorflow>=1.15->kapre==0.1.7) (2.4.0)\n",
            "Requirement already satisfied: keras-preprocessing~=1.1.2 in /usr/local/lib/python3.6/dist-packages (from tensorflow>=1.15->kapre==0.1.7) (1.1.2)\n",
            "Requirement already satisfied: opt-einsum~=3.3.0 in /usr/local/lib/python3.6/dist-packages (from tensorflow>=1.15->kapre==0.1.7) (3.3.0)\n",
            "Requirement already satisfied: protobuf>=3.9.2 in /usr/local/lib/python3.6/dist-packages (from tensorflow>=1.15->kapre==0.1.7) (3.12.4)\n",
            "Requirement already satisfied: wrapt~=1.12.1 in /usr/local/lib/python3.6/dist-packages (from tensorflow>=1.15->kapre==0.1.7) (1.12.1)\n",
            "Requirement already satisfied: tensorboard~=2.4 in /usr/local/lib/python3.6/dist-packages (from tensorflow>=1.15->kapre==0.1.7) (2.4.1)\n",
            "Requirement already satisfied: grpcio~=1.32.0 in /usr/local/lib/python3.6/dist-packages (from tensorflow>=1.15->kapre==0.1.7) (1.32.0)\n",
            "Requirement already satisfied: typing-extensions~=3.7.4 in /usr/local/lib/python3.6/dist-packages (from tensorflow>=1.15->kapre==0.1.7) (3.7.4.3)\n",
            "Requirement already satisfied: termcolor~=1.1.0 in /usr/local/lib/python3.6/dist-packages (from tensorflow>=1.15->kapre==0.1.7) (1.1.0)\n",
            "Requirement already satisfied: flatbuffers~=1.12.0 in /usr/local/lib/python3.6/dist-packages (from tensorflow>=1.15->kapre==0.1.7) (1.12)\n",
            "Requirement already satisfied: numba>=0.43.0 in /usr/local/lib/python3.6/dist-packages (from librosa>=0.5->kapre==0.1.7) (0.51.2)\n",
            "Requirement already satisfied: soundfile>=0.9.0 in /usr/local/lib/python3.6/dist-packages (from librosa>=0.5->kapre==0.1.7) (0.10.3.post1)\n",
            "Requirement already satisfied: pooch>=1.0 in /usr/local/lib/python3.6/dist-packages (from librosa>=0.5->kapre==0.1.7) (1.3.0)\n",
            "Requirement already satisfied: resampy>=0.2.2 in /usr/local/lib/python3.6/dist-packages (from librosa>=0.5->kapre==0.1.7) (0.2.2)\n",
            "Requirement already satisfied: scipy>=1.0.0 in /usr/local/lib/python3.6/dist-packages (from librosa>=0.5->kapre==0.1.7) (1.4.1)\n",
            "Requirement already satisfied: audioread>=2.0.0 in /usr/local/lib/python3.6/dist-packages (from librosa>=0.5->kapre==0.1.7) (2.1.9)\n",
            "Requirement already satisfied: scikit-learn!=0.19.0,>=0.14.0 in /usr/local/lib/python3.6/dist-packages (from librosa>=0.5->kapre==0.1.7) (0.22.2.post1)\n",
            "Requirement already satisfied: decorator>=3.0.0 in /usr/local/lib/python3.6/dist-packages (from librosa>=0.5->kapre==0.1.7) (4.4.2)\n",
            "Requirement already satisfied: joblib>=0.14 in /usr/local/lib/python3.6/dist-packages (from librosa>=0.5->kapre==0.1.7) (1.0.0)\n",
            "Requirement already satisfied: setuptools in /usr/local/lib/python3.6/dist-packages (from protobuf>=3.9.2->tensorflow>=1.15->kapre==0.1.7) (53.0.0)\n",
            "Requirement already satisfied: tensorboard-plugin-wit>=1.6.0 in /usr/local/lib/python3.6/dist-packages (from tensorboard~=2.4->tensorflow>=1.15->kapre==0.1.7) (1.8.0)\n",
            "Requirement already satisfied: requests<3,>=2.21.0 in /usr/local/lib/python3.6/dist-packages (from tensorboard~=2.4->tensorflow>=1.15->kapre==0.1.7) (2.23.0)\n",
            "Requirement already satisfied: google-auth-oauthlib<0.5,>=0.4.1 in /usr/local/lib/python3.6/dist-packages (from tensorboard~=2.4->tensorflow>=1.15->kapre==0.1.7) (0.4.2)\n",
            "Requirement already satisfied: markdown>=2.6.8 in /usr/local/lib/python3.6/dist-packages (from tensorboard~=2.4->tensorflow>=1.15->kapre==0.1.7) (3.3.3)\n",
            "Requirement already satisfied: werkzeug>=0.11.15 in /usr/local/lib/python3.6/dist-packages (from tensorboard~=2.4->tensorflow>=1.15->kapre==0.1.7) (1.0.1)\n",
            "Requirement already satisfied: google-auth<2,>=1.6.3 in /usr/local/lib/python3.6/dist-packages (from tensorboard~=2.4->tensorflow>=1.15->kapre==0.1.7) (1.24.0)\n",
            "Requirement already satisfied: llvmlite<0.35,>=0.34.0.dev0 in /usr/local/lib/python3.6/dist-packages (from numba>=0.43.0->librosa>=0.5->kapre==0.1.7) (0.34.0)\n",
            "Requirement already satisfied: cffi>=1.0 in /usr/local/lib/python3.6/dist-packages (from soundfile>=0.9.0->librosa>=0.5->kapre==0.1.7) (1.14.4)\n",
            "Requirement already satisfied: packaging in /usr/local/lib/python3.6/dist-packages (from pooch>=1.0->librosa>=0.5->kapre==0.1.7) (20.9)\n",
            "Requirement already satisfied: appdirs in /usr/local/lib/python3.6/dist-packages (from pooch>=1.0->librosa>=0.5->kapre==0.1.7) (1.4.4)\n",
            "Requirement already satisfied: chardet<4,>=3.0.2 in /usr/local/lib/python3.6/dist-packages (from requests<3,>=2.21.0->tensorboard~=2.4->tensorflow>=1.15->kapre==0.1.7) (3.0.4)\n",
            "Requirement already satisfied: urllib3!=1.25.0,!=1.25.1,<1.26,>=1.21.1 in /usr/local/lib/python3.6/dist-packages (from requests<3,>=2.21.0->tensorboard~=2.4->tensorflow>=1.15->kapre==0.1.7) (1.24.3)\n",
            "Requirement already satisfied: idna<3,>=2.5 in /usr/local/lib/python3.6/dist-packages (from requests<3,>=2.21.0->tensorboard~=2.4->tensorflow>=1.15->kapre==0.1.7) (2.10)\n",
            "Requirement already satisfied: certifi>=2017.4.17 in /usr/local/lib/python3.6/dist-packages (from requests<3,>=2.21.0->tensorboard~=2.4->tensorflow>=1.15->kapre==0.1.7) (2020.12.5)\n",
            "Requirement already satisfied: requests-oauthlib>=0.7.0 in /usr/local/lib/python3.6/dist-packages (from google-auth-oauthlib<0.5,>=0.4.1->tensorboard~=2.4->tensorflow>=1.15->kapre==0.1.7) (1.3.0)\n",
            "Requirement already satisfied: importlib-metadata; python_version < \"3.8\" in /usr/local/lib/python3.6/dist-packages (from markdown>=2.6.8->tensorboard~=2.4->tensorflow>=1.15->kapre==0.1.7) (3.4.0)\n",
            "Requirement already satisfied: rsa<5,>=3.1.4; python_version >= \"3.6\" in /usr/local/lib/python3.6/dist-packages (from google-auth<2,>=1.6.3->tensorboard~=2.4->tensorflow>=1.15->kapre==0.1.7) (4.7)\n",
            "Requirement already satisfied: pyasn1-modules>=0.2.1 in /usr/local/lib/python3.6/dist-packages (from google-auth<2,>=1.6.3->tensorboard~=2.4->tensorflow>=1.15->kapre==0.1.7) (0.2.8)\n",
            "Requirement already satisfied: cachetools<5.0,>=2.0.0 in /usr/local/lib/python3.6/dist-packages (from google-auth<2,>=1.6.3->tensorboard~=2.4->tensorflow>=1.15->kapre==0.1.7) (4.2.1)\n",
            "Requirement already satisfied: pycparser in /usr/local/lib/python3.6/dist-packages (from cffi>=1.0->soundfile>=0.9.0->librosa>=0.5->kapre==0.1.7) (2.20)\n",
            "Requirement already satisfied: pyparsing>=2.0.2 in /usr/local/lib/python3.6/dist-packages (from packaging->pooch>=1.0->librosa>=0.5->kapre==0.1.7) (2.4.7)\n",
            "Requirement already satisfied: oauthlib>=3.0.0 in /usr/local/lib/python3.6/dist-packages (from requests-oauthlib>=0.7.0->google-auth-oauthlib<0.5,>=0.4.1->tensorboard~=2.4->tensorflow>=1.15->kapre==0.1.7) (3.1.0)\n",
            "Requirement already satisfied: zipp>=0.5 in /usr/local/lib/python3.6/dist-packages (from importlib-metadata; python_version < \"3.8\"->markdown>=2.6.8->tensorboard~=2.4->tensorflow>=1.15->kapre==0.1.7) (3.4.0)\n",
            "Requirement already satisfied: pyasn1>=0.1.3 in /usr/local/lib/python3.6/dist-packages (from rsa<5,>=3.1.4; python_version >= \"3.6\"->google-auth<2,>=1.6.3->tensorboard~=2.4->tensorflow>=1.15->kapre==0.1.7) (0.4.8)\n",
            "Requirement already satisfied: soundfile in /usr/local/lib/python3.6/dist-packages (0.10.3.post1)\n",
            "Requirement already satisfied: cffi>=1.0 in /usr/local/lib/python3.6/dist-packages (from soundfile) (1.14.4)\n",
            "Requirement already satisfied: pycparser in /usr/local/lib/python3.6/dist-packages (from cffi>=1.0->soundfile) (2.20)\n",
            "Requirement already satisfied: ffmpeg-python in /usr/local/lib/python3.6/dist-packages (0.2.0)\n",
            "Requirement already satisfied: future in /usr/local/lib/python3.6/dist-packages (from ffmpeg-python) (0.16.0)\n"
          ],
          "name": "stdout"
        }
      ]
    },
    {
      "cell_type": "code",
      "metadata": {
        "colab": {
          "base_uri": "https://localhost:8080/"
        },
        "id": "FGdsdNCAKSG5",
        "outputId": "d0571269-9d71-4a94-9216-9f9ea9d9afab"
      },
      "source": [
        "from google.colab import drive\r\n",
        "drive.mount('/content/drive')"
      ],
      "execution_count": null,
      "outputs": [
        {
          "output_type": "stream",
          "text": [
            "Drive already mounted at /content/drive; to attempt to forcibly remount, call drive.mount(\"/content/drive\", force_remount=True).\n"
          ],
          "name": "stdout"
        }
      ]
    },
    {
      "cell_type": "code",
      "metadata": {
        "id": "CJ61Fl0xKtZU"
      },
      "source": [
        "import os\r\n",
        "import numpy as np\r\n",
        "import kapre\r\n",
        "import librosa\r\n",
        "import random\r\n",
        "import tensorflow as tf\r\n",
        "import soundfile as sf\r\n",
        "from tensorflow.keras import layers as L\r\n",
        "from tensorflow.keras.models import Sequential,Model\r\n",
        "from kapre.time_frequency import Melspectrogram\r\n",
        "from kapre.utils import Normalization2D\r\n",
        "from tensorflow.keras import backend as K\r\n",
        "from sklearn.model_selection import train_test_split"
      ],
      "execution_count": null,
      "outputs": []
    },
    {
      "cell_type": "markdown",
      "metadata": {
        "id": "HhkSj2u_SRvU"
      },
      "source": [
        "**Generate Data**"
      ]
    },
    {
      "cell_type": "code",
      "metadata": {
        "colab": {
          "base_uri": "https://localhost:8080/"
        },
        "id": "unoT91TiL8v3",
        "outputId": "f716d5e4-8a76-45fa-c2a4-d920c05031c3"
      },
      "source": [
        "data_dir = '/content/drive/MyDrive/voice/'\r\n",
        "os.chdir(data_dir)\r\n",
        " \r\n",
        "data_x = []\r\n",
        "data_y = []\r\n",
        "for a,i in enumerate(['Forward','Back','Left','Right','Stop']):\r\n",
        "    lis = os.listdir(data_dir+i)\r\n",
        "    for j in lis:\r\n",
        "        l,sr = sf.read(data_dir+i+'/'+j)\r\n",
        "        #print(len(l))\r\n",
        "        #if(len(l)>=8000):\r\n",
        "        data_x.append(l[0:8000])\r\n",
        "        data_y.append(a)\r\n",
        "        #else:\r\n",
        "        #    print(i)\r\n",
        "    print(i,\" Done\")\r\n",
        " \r\n",
        "data_x = np.array(data_x)\r\n",
        "data_y = np.array(data_y)\r\n",
        " \r\n",
        " \r\n",
        "np.save('x.npy',data_x)\r\n",
        "np.save('y.npy',data_y)\r\n"
      ],
      "execution_count": null,
      "outputs": [
        {
          "output_type": "stream",
          "text": [
            "Forward  Done\n",
            "Back  Done\n",
            "Left  Done\n",
            "Right  Done\n",
            "Stop  Done\n"
          ],
          "name": "stdout"
        },
        {
          "output_type": "stream",
          "text": [
            "/usr/local/lib/python3.6/dist-packages/ipykernel_launcher.py:18: VisibleDeprecationWarning: Creating an ndarray from ragged nested sequences (which is a list-or-tuple of lists-or-tuples-or ndarrays with different lengths or shapes) is deprecated. If you meant to do this, you must specify 'dtype=object' when creating the ndarray\n"
          ],
          "name": "stderr"
        }
      ]
    },
    {
      "cell_type": "markdown",
      "metadata": {
        "id": "0EalXB6WSd8d"
      },
      "source": [
        "**Splitting data into Train and Test**"
      ]
    },
    {
      "cell_type": "code",
      "metadata": {
        "id": "P26L4Xa_MyC1"
      },
      "source": [
        "from sklearn.model_selection import train_test_split\r\n",
        "import numpy as np\r\n",
        "np_load_old = np.load\r\n",
        "\r\n",
        "np.load = lambda *a,**k: np_load_old(*a, allow_pickle=True, **k)\r\n",
        "\r\n",
        "data_x = np.load('x.npy')\r\n",
        "data_y = np.load('y.npy')\r\n",
        "tr_x,te_x, tr_y,te_y = train_test_split(data_x,data_y,stratify=data_y,random_state=123,test_size=0.2)\r\n",
        "np.load = np_load_old"
      ],
      "execution_count": null,
      "outputs": []
    },
    {
      "cell_type": "code",
      "metadata": {
        "colab": {
          "base_uri": "https://localhost:8080/"
        },
        "id": "qn-hPOqiNj1h",
        "outputId": "ebdb6eb8-4b9c-4cab-b312-aec073554823"
      },
      "source": [
        "data_x.shape\r\n"
      ],
      "execution_count": null,
      "outputs": [
        {
          "output_type": "execute_result",
          "data": {
            "text/plain": [
              "(400,)"
            ]
          },
          "metadata": {
            "tags": []
          },
          "execution_count": 8
        }
      ]
    },
    {
      "cell_type": "code",
      "metadata": {
        "id": "5zRCCp25NpiE"
      },
      "source": [
        "x_train = []\r\n",
        "y_train = []\r\n",
        "for i,j in enumerate(tr_x):\r\n",
        "    x= len(j)\r\n",
        "    p = 25000-x\r\n",
        "    for y in range(1 ,p, 500):\r\n",
        "        nx = np.zeros(25000)\r\n",
        "        nx[y:y+x] =j\r\n",
        "        x_train.append(nx)\r\n",
        "        y_train.append(tr_y[i])\r\n",
        "x_train = np.array(x_train)\r\n",
        "y_train = np.array(y_train)\r\n",
        "\r\n",
        "x_test = []\r\n",
        "y_test = []\r\n",
        "for i,j in enumerate(te_x):\r\n",
        "    x= len(j)\r\n",
        "    p = 25000-x\r\n",
        "    for y in range(1 ,p, 500):\r\n",
        "        nx = np.zeros(25000)\r\n",
        "        nx[y:y+x] =j\r\n",
        "        x_test.append(nx)\r\n",
        "        y_test.append(te_y[i])\r\n",
        "x_test = np.array(x_test)\r\n",
        "y_test = np.array(y_test)\r\n",
        "\r\n",
        "np.save('x_train.npy',x_train)\r\n",
        "np.save('y_train.npy',y_train)\r\n",
        "np.save('x_test.npy',x_test)\r\n",
        "np.save('y_test.npy',y_test)"
      ],
      "execution_count": null,
      "outputs": []
    },
    {
      "cell_type": "markdown",
      "metadata": {
        "id": "0LDwmxGQSmSj"
      },
      "source": [
        "**Extract Features**"
      ]
    },
    {
      "cell_type": "code",
      "metadata": {
        "id": "Ub9vSIvFT-4a"
      },
      "source": [
        "mfcc = Sequential()\r\n",
        "mfcc.add(L.Reshape((1, -1)))\r\n",
        "mfcc.add(Melspectrogram(padding='same', sr=16000, n_mels=39, n_dft = 1024,\r\n",
        "                        power_melgram=2.0, return_decibel_melgram=True,\r\n",
        "                        trainable_fb=False, trainable_kernel=False,\r\n",
        "                        name='mel_stft'))\r\n",
        "mfcc.add(Normalization2D(str_axis='freq'))\r\n",
        "mfcc.add(L.Permute((2, 1, 3)))\r\n",
        "\r\n",
        "x_train = mfcc.predict(x_train)\r\n",
        "x_train.shape\r\n",
        "\r\n",
        "x_test = mfcc.predict(x_test)\r\n",
        "x_test.shape\r\n",
        "\r\n",
        "np.save('mfcc_train.npy',x_train)\r\n",
        "np.save('mfcc_test.npy',x_test)\r\n"
      ],
      "execution_count": null,
      "outputs": []
    },
    {
      "cell_type": "markdown",
      "metadata": {
        "id": "3COhyw4hSsNv"
      },
      "source": [
        "**Loading Data**"
      ]
    },
    {
      "cell_type": "code",
      "metadata": {
        "id": "7eQgwqKEUQHE"
      },
      "source": [
        "data_dir = '/content/drive/MyDrive/voice/'\r\n",
        "os.chdir(data_dir)\r\n",
        "x_train = np.load('mfcc_train.npy')\r\n",
        "y_train = np.load('y_train.npy')\r\n",
        "x_test = np.load('mfcc_test.npy')\r\n",
        "y_test = np.load('y_test.npy')\r\n"
      ],
      "execution_count": null,
      "outputs": []
    },
    {
      "cell_type": "markdown",
      "metadata": {
        "id": "IA3bdDqiSxGl"
      },
      "source": [
        "**Model**"
      ]
    },
    {
      "cell_type": "code",
      "metadata": {
        "id": "V_180ghbUh-7"
      },
      "source": [
        "os.environ['PYTHONHASHSEED']='123'\r\n",
        "np.random.seed(123)\r\n",
        "random.seed(123)\r\n",
        "tf.random.set_seed(123)\r\n",
        "\r\n",
        "def AttentionModel(sr=16000, iLen=25000):\r\n",
        "    \r\n",
        "    inputs = L.Input(x_train.shape[1:], name='Input')\r\n",
        "\r\n",
        "    x = L.Conv2D(10, (5, 1), activation='relu', padding='same', name='Conv1')(inputs)\r\n",
        "    x = L.BatchNormalization(name='BN1')(x)\r\n",
        "    x = L.Conv2D(1, (5, 1), activation='relu', padding='same', name='Conv2')(x)\r\n",
        "    x = L.BatchNormalization(name='BN2')(x)\r\n",
        "\r\n",
        "    x = L.Reshape(x.shape[1:-1],name='Squeeze')(x)\r\n",
        "\r\n",
        "    n_units = 64\r\n",
        "    x = L.LSTM(n_units, return_sequences=True, name='LSTM_Sequences')(x)  \r\n",
        "\r\n",
        "    # Calculate Unit Importance\r\n",
        "    xLast = L.Lambda(lambda q: q[:, -1], name='FinalSequence')(x)  # [b_s, vec_dim]\r\n",
        "    xLast = L.Dense(xLast.shape[-1], name='UnitImportance')(xLast)\r\n",
        "\r\n",
        "    # Calculate attention\r\n",
        "    attScores = L.Dot(axes=[1, 2],name='AttentionScores')([xLast, x])\r\n",
        "    attScores = L.Softmax(name='AttentionSoftmax')(attScores)  \r\n",
        "\r\n",
        "    x = L.Dot(axes=[1, 1], name='AttentionVector')([attScores, x])  \r\n",
        "    x = L.Dense(32, activation='relu', name='FC')(x)\r\n",
        "    outputs = L.Dense(5, activation='softmax', name='Output')(x)\r\n",
        "    model = Model(inputs=[inputs], outputs=[outputs], name='Attention')\r\n",
        "\r\n",
        "    return model\r\n",
        "\r\n",
        "model = AttentionModel()\r\n",
        "model.compile(optimizer=tf.keras.optimizers.Adam(), loss=['sparse_categorical_crossentropy'], metrics=['sparse_categorical_accuracy'])"
      ],
      "execution_count": null,
      "outputs": []
    },
    {
      "cell_type": "code",
      "metadata": {
        "colab": {
          "base_uri": "https://localhost:8080/"
        },
        "id": "D9l7otB0Upnc",
        "outputId": "ae4a3a66-0172-4235-de86-f8045545ab6c"
      },
      "source": [
        "model.summary()\r\n"
      ],
      "execution_count": null,
      "outputs": [
        {
          "output_type": "stream",
          "text": [
            "Model: \"Attention\"\n",
            "__________________________________________________________________________________________________\n",
            "Layer (type)                    Output Shape         Param #     Connected to                     \n",
            "==================================================================================================\n",
            "Input (InputLayer)              [(None, 49, 39, 1)]  0                                            \n",
            "__________________________________________________________________________________________________\n",
            "Conv1 (Conv2D)                  (None, 49, 39, 10)   60          Input[0][0]                      \n",
            "__________________________________________________________________________________________________\n",
            "BN1 (BatchNormalization)        (None, 49, 39, 10)   40          Conv1[0][0]                      \n",
            "__________________________________________________________________________________________________\n",
            "Conv2 (Conv2D)                  (None, 49, 39, 1)    51          BN1[0][0]                        \n",
            "__________________________________________________________________________________________________\n",
            "BN2 (BatchNormalization)        (None, 49, 39, 1)    4           Conv2[0][0]                      \n",
            "__________________________________________________________________________________________________\n",
            "Squeeze (Reshape)               (None, 49, 39)       0           BN2[0][0]                        \n",
            "__________________________________________________________________________________________________\n",
            "LSTM_Sequences (LSTM)           (None, 49, 64)       26624       Squeeze[0][0]                    \n",
            "__________________________________________________________________________________________________\n",
            "FinalSequence (Lambda)          (None, 64)           0           LSTM_Sequences[0][0]             \n",
            "__________________________________________________________________________________________________\n",
            "UnitImportance (Dense)          (None, 64)           4160        FinalSequence[0][0]              \n",
            "__________________________________________________________________________________________________\n",
            "AttentionScores (Dot)           (None, 49)           0           UnitImportance[0][0]             \n",
            "                                                                 LSTM_Sequences[0][0]             \n",
            "__________________________________________________________________________________________________\n",
            "AttentionSoftmax (Softmax)      (None, 49)           0           AttentionScores[0][0]            \n",
            "__________________________________________________________________________________________________\n",
            "AttentionVector (Dot)           (None, 64)           0           AttentionSoftmax[0][0]           \n",
            "                                                                 LSTM_Sequences[0][0]             \n",
            "__________________________________________________________________________________________________\n",
            "FC (Dense)                      (None, 32)           2080        AttentionVector[0][0]            \n",
            "__________________________________________________________________________________________________\n",
            "Output (Dense)                  (None, 5)            165         FC[0][0]                         \n",
            "==================================================================================================\n",
            "Total params: 33,184\n",
            "Trainable params: 33,162\n",
            "Non-trainable params: 22\n",
            "__________________________________________________________________________________________________\n"
          ],
          "name": "stdout"
        }
      ]
    },
    {
      "cell_type": "markdown",
      "metadata": {
        "id": "db9jEkxoS5VI"
      },
      "source": [
        "**Train Model**"
      ]
    },
    {
      "cell_type": "code",
      "metadata": {
        "colab": {
          "base_uri": "https://localhost:8080/"
        },
        "id": "jmGzKtE7UswU",
        "outputId": "e78949f8-aabb-44b4-819e-848349dccd11"
      },
      "source": [
        "model.fit(x_train,y_train,validation_data=(x_test,y_test),verbose=2,epochs=10,shuffle=True,batch_size=15)\r\n"
      ],
      "execution_count": null,
      "outputs": [
        {
          "output_type": "stream",
          "text": [
            "Epoch 1/10\n",
            "727/727 - 41s - loss: 0.1170 - sparse_categorical_accuracy: 0.9630 - val_loss: 0.0969 - val_sparse_categorical_accuracy: 0.9780\n",
            "Epoch 2/10\n",
            "727/727 - 38s - loss: 3.0913e-04 - sparse_categorical_accuracy: 1.0000 - val_loss: 0.1118 - val_sparse_categorical_accuracy: 0.9780\n",
            "Epoch 3/10\n",
            "727/727 - 39s - loss: 1.0013e-04 - sparse_categorical_accuracy: 1.0000 - val_loss: 0.1176 - val_sparse_categorical_accuracy: 0.9780\n",
            "Epoch 4/10\n",
            "727/727 - 38s - loss: 4.5872e-05 - sparse_categorical_accuracy: 1.0000 - val_loss: 0.1250 - val_sparse_categorical_accuracy: 0.9780\n",
            "Epoch 5/10\n",
            "727/727 - 39s - loss: 2.4547e-05 - sparse_categorical_accuracy: 1.0000 - val_loss: 0.1323 - val_sparse_categorical_accuracy: 0.9780\n",
            "Epoch 6/10\n",
            "727/727 - 39s - loss: 1.4481e-05 - sparse_categorical_accuracy: 1.0000 - val_loss: 0.1394 - val_sparse_categorical_accuracy: 0.9780\n",
            "Epoch 7/10\n",
            "727/727 - 39s - loss: 8.5130e-06 - sparse_categorical_accuracy: 1.0000 - val_loss: 0.1491 - val_sparse_categorical_accuracy: 0.9780\n",
            "Epoch 8/10\n",
            "727/727 - 38s - loss: 5.4056e-06 - sparse_categorical_accuracy: 1.0000 - val_loss: 0.1486 - val_sparse_categorical_accuracy: 0.9780\n",
            "Epoch 9/10\n",
            "727/727 - 39s - loss: 3.4078e-06 - sparse_categorical_accuracy: 1.0000 - val_loss: 0.1576 - val_sparse_categorical_accuracy: 0.9780\n",
            "Epoch 10/10\n",
            "727/727 - 38s - loss: 2.1776e-06 - sparse_categorical_accuracy: 1.0000 - val_loss: 0.1653 - val_sparse_categorical_accuracy: 0.9780\n"
          ],
          "name": "stdout"
        },
        {
          "output_type": "execute_result",
          "data": {
            "text/plain": [
              "<tensorflow.python.keras.callbacks.History at 0x7f57f0d27a90>"
            ]
          },
          "metadata": {
            "tags": []
          },
          "execution_count": 16
        }
      ]
    },
    {
      "cell_type": "markdown",
      "metadata": {
        "id": "lCAO8zDiS-Vp"
      },
      "source": [
        "**Save Model**"
      ]
    },
    {
      "cell_type": "code",
      "metadata": {
        "id": "pV7fcnapVPQI"
      },
      "source": [
        "data_dir = '/content/drive/MyDrive/voice/'\r\n",
        "os.chdir(data_dir)\r\n",
        "model.save('model.h5')\r\n"
      ],
      "execution_count": null,
      "outputs": []
    },
    {
      "cell_type": "markdown",
      "metadata": {
        "id": "fJF6BVsgTfoN"
      },
      "source": [
        "**Check Attention**"
      ]
    },
    {
      "cell_type": "code",
      "metadata": {
        "colab": {
          "base_uri": "https://localhost:8080/",
          "height": 1000
        },
        "id": "xJeW56meV_Qn",
        "outputId": "e0c37273-f439-4e27-f02d-969f2102f991"
      },
      "source": [
        "from matplotlib import pyplot as plt\r\n",
        "model2 = Model(inputs=model.input, outputs=[model.get_layer('Output').output, \r\n",
        "                                            model.get_layer('AttentionSoftmax').output])\r\n",
        "data_dir = '/content/drive/MyDrive/voice/'\r\n",
        "os.chdir(data_dir)\r\n",
        "a,b = model2.predict(x_test)\r\n",
        "xx_test = np.load('x_test.npy')\r\n",
        "for aid in range(0,100,18):\r\n",
        "    plt.plot(range(len(b[aid])), np.log(b[aid]))\r\n",
        "    plt.show()\r\n",
        "    plt.plot(range(len(xx_test[aid])),xx_test[aid])\r\n",
        "    plt.show()\r\n"
      ],
      "execution_count": null,
      "outputs": [
        {
          "output_type": "display_data",
          "data": {
            "image/png": "[encoded data removed]",
            "text/plain": [
              "<Figure size 432x288 with 1 Axes>"
            ]
          },
          "metadata": {
            "tags": [],
            "needs_background": "light"
          }
        },
        {
          "output_type": "display_data",
          "data": {
            "image/png": "[encoded data removed]",
            "text/plain": [
              "<Figure size 432x288 with 1 Axes>"
            ]
          },
          "metadata": {
            "tags": [],
            "needs_background": "light"
          }
        },
        {
          "output_type": "display_data",
          "data": {
            "image/png": "[encoded data removed]",
            "text/plain": [
              "<Figure size 432x288 with 1 Axes>"
            ]
          },
          "metadata": {
            "tags": [],
            "needs_background": "light"
          }
        },
        {
          "output_type": "display_data",
          "data": {
            "image/png": "[encoded data removed]",
            "text/plain": [
              "<Figure size 432x288 with 1 Axes>"
            ]
          },
          "metadata": {
            "tags": [],
            "needs_background": "light"
          }
        },
        {
          "output_type": "display_data",
          "data": {
            "image/png": "[encoded data removed]",
            "text/plain": [
              "<Figure size 432x288 with 1 Axes>"
            ]
          },
          "metadata": {
            "tags": [],
            "needs_background": "light"
          }
        },
        {
          "output_type": "display_data",
          "data": {
            "image/png": "[encoded data removed]",
            "text/plain": [
              "<Figure size 432x288 with 1 Axes>"
            ]
          },
          "metadata": {
            "tags": [],
            "needs_background": "light"
          }
        },
        {
          "output_type": "display_data",
          "data": {
            "image/png": "[encoded data removed]",
            "text/plain": [
              "<Figure size 432x288 with 1 Axes>"
            ]
          },
          "metadata": {
            "tags": [],
            "needs_background": "light"
          }
        },
        {
          "output_type": "display_data",
          "data": {
            "image/png": "[encoded data removed]",
            "text/plain": [
              "<Figure size 432x288 with 1 Axes>"
            ]
          },
          "metadata": {
            "tags": [],
            "needs_background": "light"
          }
        },
        {
          "output_type": "display_data",
          "data": {
            "image/png": "[encoded data removed]",
            "text/plain": [
              "<Figure size 432x288 with 1 Axes>"
            ]
          },
          "metadata": {
            "tags": [],
            "needs_background": "light"
          }
        },
        {
          "output_type": "display_data",
          "data": {
            "image/png": "[encoded data removed]",
            "text/plain": [
              "<Figure size 432x288 with 1 Axes>"
            ]
          },
          "metadata": {
            "tags": [],
            "needs_background": "light"
          }
        },
        {
          "output_type": "display_data",
          "data": {
            "image/png": "[encoded data removed]",
            "text/plain": [
              "<Figure size 432x288 with 1 Axes>"
            ]
          },
          "metadata": {
            "tags": [],
            "needs_background": "light"
          }
        },
        {
          "output_type": "display_data",
          "data": {
            "image/png": "[encoded data removed]",
            "text/plain": [
              "<Figure size 432x288 with 1 Axes>"
            ]
          },
          "metadata": {
            "tags": [],
            "needs_background": "light"
          }
        }
      ]
    },
    {
      "cell_type": "markdown",
      "metadata": {
        "id": "40VJi5btTxmI"
      },
      "source": [
        "**Test Model**"
      ]
    },
    {
      "cell_type": "code",
      "metadata": {
        "id": "KHmw9tXJX0LL"
      },
      "source": [
        "from IPython.display import Javascript\r\n",
        "from google.colab import output\r\n",
        "from base64 import b64decode\r\n",
        "import ffmpeg\r\n",
        " \r\n",
        "RECORD = \"\"\"\r\n",
        "const sleep  = time => new Promise(resolve => setTimeout(resolve, time))\r\n",
        "const b2text = blob => new Promise(resolve => {\r\n",
        "  const reader = new FileReader()\r\n",
        "  reader.onloadend = e => resolve(e.srcElement.result)\r\n",
        "  reader.readAsDataURL(blob)\r\n",
        "})\r\n",
        "var record = time => new Promise(async resolve => {\r\n",
        "  stream = await navigator.mediaDevices.getUserMedia({ audio: true })\r\n",
        "  recorder = new MediaRecorder(stream)\r\n",
        "  chunks = []\r\n",
        "  recorder.ondataavailable = e => chunks.push(e.data)\r\n",
        "  recorder.start()\r\n",
        "  await sleep(time)\r\n",
        "  recorder.onstop = async ()=>{\r\n",
        "    blob = new Blob(chunks)\r\n",
        "    text = await b2text(blob)\r\n",
        "    resolve(text)\r\n",
        "  }\r\n",
        "  recorder.stop()\r\n",
        "})\r\n",
        "\"\"\"\r\n",
        " \r\n",
        "def record(sec=3, path='audio.wav'):\r\n",
        "  display(Javascript(RECORD))\r\n",
        "  s = output.eval_js('record(%d)' % (sec*1000))\r\n",
        "  b = b64decode(s.split(',')[1])\r\n",
        "  process = (ffmpeg\r\n",
        "    .input('pipe:0')\r\n",
        "    .output(path, format='wav', ac=1, ar=16000)\r\n",
        "    .run_async(pipe_stdin=True, pipe_stdout=True, pipe_stderr=True, quiet=True, overwrite_output=True)\r\n",
        "  )\r\n",
        "  process.communicate(input=b)\r\n"
      ],
      "execution_count": null,
      "outputs": []
    },
    {
      "cell_type": "code",
      "metadata": {
        "colab": {
          "base_uri": "https://localhost:8080/",
          "height": 88
        },
        "id": "NKZhooG3Yyoe",
        "outputId": "78585693-395c-4c50-f83d-fce74f71752c"
      },
      "source": [
        "from tensorflow import keras\r\n",
        "import soundfile as sf\r\n",
        "import numpy as np\r\n",
        " \r\n",
        "rootPath = '/content/drive/MyDrive/voice/'\r\n",
        "model = keras.models.load_model(rootPath + '/model.h5')\r\n",
        "record(path=rootPath + '/testfile.wav')\r\n",
        "l = sf.read(rootPath + '/testfile.wav')[0]\r\n",
        "l = l[0:8000]\r\n",
        "x = len(l)\r\n",
        "p = 25000-x\r\n",
        "nx = np.zeros(25000)\r\n",
        "for y in range(1 ,p, 500):\r\n",
        "    nx[y:y+x] = l\r\n",
        "nx = nx.reshape([1, len(nx)])\r\n",
        " \r\n",
        "mfcc = Sequential()\r\n",
        "mfcc.add(L.Reshape((1, -1)))\r\n",
        "mfcc.add(Melspectrogram(padding='same', sr=16000, n_mels=39, n_dft = 1024,\r\n",
        "                        power_melgram=2.0, return_decibel_melgram=True,\r\n",
        "                        trainable_fb=False, trainable_kernel=False,\r\n",
        "                        name='mel_stft'))\r\n",
        "mfcc.add(Normalization2D(str_axis='freq'))\r\n",
        "mfcc.add(L.Permute((2, 1, 3)))\r\n",
        " \r\n",
        "nx = mfcc.predict(nx)\r\n",
        " \r\n",
        "y = model.predict(nx)[0]\r\n",
        "y = np.argmax(y)\r\n",
        "words = ['Forward','Back', 'Left', 'Right', 'Stop']\r\n",
        "print (words [y])"
      ],
      "execution_count": null,
      "outputs": [
        {
          "output_type": "display_data",
          "data": {
            "application/javascript": [
              "\n",
              "const sleep  = time => new Promise(resolve => setTimeout(resolve, time))\n",
              "const b2text = blob => new Promise(resolve => {\n",
              "  const reader = new FileReader()\n",
              "  reader.onloadend = e => resolve(e.srcElement.result)\n",
              "  reader.readAsDataURL(blob)\n",
              "})\n",
              "var record = time => new Promise(async resolve => {\n",
              "  stream = await navigator.mediaDevices.getUserMedia({ audio: true })\n",
              "  recorder = new MediaRecorder(stream)\n",
              "  chunks = []\n",
              "  recorder.ondataavailable = e => chunks.push(e.data)\n",
              "  recorder.start()\n",
              "  await sleep(time)\n",
              "  recorder.onstop = async ()=>{\n",
              "    blob = new Blob(chunks)\n",
              "    text = await b2text(blob)\n",
              "    resolve(text)\n",
              "  }\n",
              "  recorder.stop()\n",
              "})\n"
            ],
            "text/plain": [
              "<IPython.core.display.Javascript object>"
            ]
          },
          "metadata": {
            "tags": []
          }
        },
        {
          "output_type": "stream",
          "text": [
            "WARNING:tensorflow:11 out of the last 11 calls to <function Model.make_predict_function.<locals>.predict_function at 0x7f57e9590158> triggered tf.function retracing. Tracing is expensive and the excessive number of tracings could be due to (1) creating @tf.function repeatedly in a loop, (2) passing tensors with different shapes, (3) passing Python objects instead of tensors. For (1), please define your @tf.function outside of the loop. For (2), @tf.function has experimental_relax_shapes=True option that relaxes argument shapes that can avoid unnecessary retracing. For (3), please refer to https://www.tensorflow.org/guide/function#controlling_retracing and https://www.tensorflow.org/api_docs/python/tf/function for  more details.\n",
            "WARNING:tensorflow:11 out of the last 11 calls to <function Model.make_predict_function.<locals>.predict_function at 0x7f57e9542598> triggered tf.function retracing. Tracing is expensive and the excessive number of tracings could be due to (1) creating @tf.function repeatedly in a loop, (2) passing tensors with different shapes, (3) passing Python objects instead of tensors. For (1), please define your @tf.function outside of the loop. For (2), @tf.function has experimental_relax_shapes=True option that relaxes argument shapes that can avoid unnecessary retracing. For (3), please refer to https://www.tensorflow.org/guide/function#controlling_retracing and https://www.tensorflow.org/api_docs/python/tf/function for  more details.\n",
            "Left\n"
          ],
          "name": "stdout"
        }
      ]
    }
  ]
}